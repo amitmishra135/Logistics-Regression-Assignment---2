{
 "cells": [
  {
   "cell_type": "markdown",
   "id": "84ccd39a-f10e-4dfa-a656-1d73bb9dc28f",
   "metadata": {},
   "source": [
    "Q1. What is the purpose of grid search cv in machine learning, and how does it work?\n",
    "\n",
    "Answer->"
   ]
  },
  {
   "cell_type": "markdown",
   "id": "28a8bf52-45cd-4ff6-91e5-5e3bc333f31b",
   "metadata": {},
   "source": [
    "* Purpose: To find the best hyperparameters for a model.\n",
    "* How it Works: Exhaustively searches specified parameter grid using cross-validation to evaluate performance.\n"
   ]
  },
  {
   "cell_type": "markdown",
   "id": "53687449-5e20-4e8d-8bd6-1ced24afce0b",
   "metadata": {},
   "source": [
    "Q2. Describe the difference between grid search cv and randomize search cv, and when might you choose one over the other?\n",
    "\n",
    "Answer->"
   ]
  },
  {
   "cell_type": "markdown",
   "id": "ca676ad2-babd-4819-8ab1-a048e5ed94d6",
   "metadata": {},
   "source": [
    "* Grid Search CV: Searches all possible combinations of hyperparameters.\n",
    "* Randomize Search CV: Randomly samples a specified number of hyperparameter combinations.\n",
    "* Choice: Use Grid Search for smaller grids and Randomized Search for larger or more complex grids to save time.\n"
   ]
  },
  {
   "cell_type": "markdown",
   "id": "dc684e3c-e792-4ade-b770-5db5ae7b281e",
   "metadata": {},
   "source": [
    "Q3. What is data leakage, and why is it a problem in machine learning? Provide an example.\n",
    "\n",
    "Answer->"
   ]
  },
  {
   "cell_type": "markdown",
   "id": "81c2240d-6df9-42d4-9474-b6e29f8b6c12",
   "metadata": {},
   "source": [
    "* Data Leakage: When information from outside the training dataset is used to create the model.\n",
    "* Problem: Leads to overestimating model performance.\n",
    "* Example: Using future data in training for time series forecasting.\n"
   ]
  },
  {
   "cell_type": "markdown",
   "id": "8fbb6146-0a75-4daa-bf3d-9793dec18109",
   "metadata": {},
   "source": [
    "Q4. How can you prevent data leakage when building a machine learning model?\n",
    "\n",
    "Answer->"
   ]
  },
  {
   "cell_type": "markdown",
   "id": "3e11568d-be22-45c8-8de6-2cc4ceaa239e",
   "metadata": {},
   "source": [
    "* Prevention: Properly split data into training, validation, and test sets; avoid using future information; preprocess data separately for each set.\n"
   ]
  },
  {
   "cell_type": "markdown",
   "id": "50825e3f-2bc2-481a-8bde-b7bd5c1d16e3",
   "metadata": {},
   "source": [
    "Q5. What is a confusion matrix, and what does it tell you about the performance of a classification model?\n",
    "\n",
    "Answer->"
   ]
  },
  {
   "cell_type": "markdown",
   "id": "b7ae68cb-8583-4212-80ee-fc78dfe74912",
   "metadata": {},
   "source": [
    "* Confusion Matrix: A table showing true positives, true negatives, false positives, and false negatives.\n",
    "* Performance: Provides detailed insight into model accuracy and types of errors.\n"
   ]
  },
  {
   "cell_type": "markdown",
   "id": "20ed934b-1eeb-46f3-9298-1526ac0bf6ac",
   "metadata": {},
   "source": [
    "Q6. Explain the difference between precision and recall in the context of a confusion matrix.\n",
    "\n",
    "Answer->"
   ]
  },
  {
   "cell_type": "markdown",
   "id": "5917681c-2ab9-42c8-aa7a-55925698f3e0",
   "metadata": {},
   "source": [
    "* Precision: True Positives / (True Positives + False Positives) - Measures accuracy of positive predictions.\n",
    "* Recall: True Positives / (True Positives + False Negatives) - Measures ability to identify all positive instances.\n"
   ]
  },
  {
   "cell_type": "markdown",
   "id": "05055cc3-b9b1-407d-80a2-a4ee605b174e",
   "metadata": {},
   "source": [
    "Q7. How can you interpret a confusion matrix to determine which types of errors your model is making?\n",
    "\n",
    "Answer->"
   ]
  },
  {
   "cell_type": "markdown",
   "id": "28756483-499d-4f8c-bfdd-6a863224fae2",
   "metadata": {},
   "source": [
    "* Interpretation: Examine false positives and false negatives to understand where the model is making errors."
   ]
  },
  {
   "cell_type": "markdown",
   "id": "928c6920-9aaf-4851-8d92-c2dac296f8f1",
   "metadata": {},
   "source": [
    "Q8. What are some common metrics that can be derived from a confusion matrix, and how are they calculated?\n",
    "\n",
    "Answer ->"
   ]
  },
  {
   "cell_type": "markdown",
   "id": "56636866-25d0-417c-bceb-977e5c321441",
   "metadata": {},
   "source": [
    "* Metrics:\n",
    "* Accuracy: (TP + TN) / (TP + TN + FP + FN)\n",
    "* Precision: TP / (TP + FP)\n",
    "* Recall: TP / (TP + FN)\n",
    "* F1 Score: 2 * (Precision * Recall) / (Precision + Recall)\n"
   ]
  },
  {
   "cell_type": "markdown",
   "id": "2edf5bfd-9531-4b3f-a693-bf52281f1f37",
   "metadata": {},
   "source": [
    "Q9. What is the relationship between the accuracy of a model and the values in its confusion matrix?\n",
    "\n",
    "Answer->"
   ]
  },
  {
   "cell_type": "markdown",
   "id": "5441ea72-4696-452a-8611-9f92e8329179",
   "metadata": {},
   "source": [
    "* Relationship: Accuracy is the ratio of correctly predicted instances (both positives and negatives) to the total instances, derived from the confusion matrix.\n"
   ]
  },
  {
   "cell_type": "markdown",
   "id": "17299613-e92c-4892-be49-18edeb85f5b3",
   "metadata": {},
   "source": [
    "Q10. How can you use a confusion matrix to identify potential biases or limitations in your machine learning model?\n",
    "\n",
    "Answer->"
   ]
  },
  {
   "cell_type": "markdown",
   "id": "6e756e21-ee9a-47b5-9c2a-187faf739e6f",
   "metadata": {},
   "source": [
    "* Identify Biases: Analyze imbalances in false positives and false negatives to detect if the model is biased towards or against certain classes."
   ]
  },
  {
   "cell_type": "code",
   "execution_count": null,
   "id": "8bb8a429-d506-497c-9a02-1b7c78953276",
   "metadata": {},
   "outputs": [],
   "source": []
  }
 ],
 "metadata": {
  "kernelspec": {
   "display_name": "Python 3 (ipykernel)",
   "language": "python",
   "name": "python3"
  },
  "language_info": {
   "codemirror_mode": {
    "name": "ipython",
    "version": 3
   },
   "file_extension": ".py",
   "mimetype": "text/x-python",
   "name": "python",
   "nbconvert_exporter": "python",
   "pygments_lexer": "ipython3",
   "version": "3.10.8"
  }
 },
 "nbformat": 4,
 "nbformat_minor": 5
}
